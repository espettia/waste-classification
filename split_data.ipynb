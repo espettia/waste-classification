{
 "cells": [
  {
   "cell_type": "code",
   "execution_count": 1,
   "id": "f9f1b5c3-8663-414d-9340-24922e3b3571",
   "metadata": {
    "execution": {
     "iopub.execute_input": "2023-12-20T02:57:03.447770Z",
     "iopub.status.busy": "2023-12-20T02:57:03.447125Z",
     "iopub.status.idle": "2023-12-20T02:57:05.328148Z",
     "shell.execute_reply": "2023-12-20T02:57:05.327350Z",
     "shell.execute_reply.started": "2023-12-20T02:57:03.447692Z"
    },
    "tags": []
   },
   "outputs": [
    {
     "name": "stderr",
     "output_type": "stream",
     "text": [
      "2023-12-20 02:57:03.666877: I tensorflow/core/util/util.cc:169] oneDNN custom operations are on. You may see slightly different numerical results due to floating-point round-off errors from different computation orders. To turn them off, set the environment variable `TF_ENABLE_ONEDNN_OPTS=0`.\n"
     ]
    }
   ],
   "source": [
    "import numpy as np\n",
    "import tensorflow as tf"
   ]
  },
  {
   "cell_type": "code",
   "execution_count": 2,
   "id": "d41f823f-8f58-4ff8-a0bb-a508e85ed825",
   "metadata": {
    "execution": {
     "iopub.execute_input": "2023-12-20T02:57:05.330113Z",
     "iopub.status.busy": "2023-12-20T02:57:05.329647Z",
     "iopub.status.idle": "2023-12-20T02:57:06.534849Z",
     "shell.execute_reply": "2023-12-20T02:57:06.534261Z",
     "shell.execute_reply.started": "2023-12-20T02:57:05.330089Z"
    },
    "tags": []
   },
   "outputs": [
    {
     "name": "stdout",
     "output_type": "stream",
     "text": [
      "Found 4790 files belonging to 9 classes.\n",
      "Using 4072 files for training.\n"
     ]
    },
    {
     "name": "stderr",
     "output_type": "stream",
     "text": [
      "2023-12-20 02:57:05.609814: I tensorflow/stream_executor/cuda/cuda_gpu_executor.cc:975] successful NUMA node read from SysFS had negative value (-1), but there must be at least one NUMA node, so returning NUMA node zero\n",
      "2023-12-20 02:57:05.616897: I tensorflow/stream_executor/cuda/cuda_gpu_executor.cc:975] successful NUMA node read from SysFS had negative value (-1), but there must be at least one NUMA node, so returning NUMA node zero\n",
      "2023-12-20 02:57:05.617489: I tensorflow/stream_executor/cuda/cuda_gpu_executor.cc:975] successful NUMA node read from SysFS had negative value (-1), but there must be at least one NUMA node, so returning NUMA node zero\n",
      "2023-12-20 02:57:05.618389: I tensorflow/core/platform/cpu_feature_guard.cc:193] This TensorFlow binary is optimized with oneAPI Deep Neural Network Library (oneDNN) to use the following CPU instructions in performance-critical operations:  AVX2 AVX512F AVX512_VNNI FMA\n",
      "To enable them in other operations, rebuild TensorFlow with the appropriate compiler flags.\n",
      "2023-12-20 02:57:05.618700: I tensorflow/stream_executor/cuda/cuda_gpu_executor.cc:975] successful NUMA node read from SysFS had negative value (-1), but there must be at least one NUMA node, so returning NUMA node zero\n",
      "2023-12-20 02:57:05.619494: I tensorflow/stream_executor/cuda/cuda_gpu_executor.cc:975] successful NUMA node read from SysFS had negative value (-1), but there must be at least one NUMA node, so returning NUMA node zero\n",
      "2023-12-20 02:57:05.620243: I tensorflow/stream_executor/cuda/cuda_gpu_executor.cc:975] successful NUMA node read from SysFS had negative value (-1), but there must be at least one NUMA node, so returning NUMA node zero\n",
      "2023-12-20 02:57:06.245631: I tensorflow/stream_executor/cuda/cuda_gpu_executor.cc:975] successful NUMA node read from SysFS had negative value (-1), but there must be at least one NUMA node, so returning NUMA node zero\n",
      "2023-12-20 02:57:06.246229: I tensorflow/stream_executor/cuda/cuda_gpu_executor.cc:975] successful NUMA node read from SysFS had negative value (-1), but there must be at least one NUMA node, so returning NUMA node zero\n",
      "2023-12-20 02:57:06.246757: I tensorflow/stream_executor/cuda/cuda_gpu_executor.cc:975] successful NUMA node read from SysFS had negative value (-1), but there must be at least one NUMA node, so returning NUMA node zero\n",
      "2023-12-20 02:57:06.247255: I tensorflow/core/common_runtime/gpu/gpu_device.cc:1532] Created device /job:localhost/replica:0/task:0/device:GPU:0 with 13795 MB memory:  -> device: 0, name: Tesla T4, pci bus id: 0000:00:1e.0, compute capability: 7.5\n"
     ]
    }
   ],
   "source": [
    "batch_size=32\n",
    "img_height = 524\n",
    "img_width = 524\n",
    "seed=0\n",
    "\n",
    "full_train_ds = tf.keras.utils.image_dataset_from_directory(\n",
    "  './RealWaste',\n",
    "  validation_split=0.15,\n",
    "  subset=\"training\",\n",
    "  seed=seed,\n",
    "  image_size=(img_height, img_width),\n",
    "  batch_size=batch_size)"
   ]
  },
  {
   "cell_type": "code",
   "execution_count": 3,
   "id": "ab59d9ed-e366-4f59-b9a9-261e00b871b1",
   "metadata": {
    "execution": {
     "iopub.execute_input": "2023-12-20T02:57:06.535970Z",
     "iopub.status.busy": "2023-12-20T02:57:06.535686Z",
     "iopub.status.idle": "2023-12-20T02:57:06.794811Z",
     "shell.execute_reply": "2023-12-20T02:57:06.794159Z",
     "shell.execute_reply.started": "2023-12-20T02:57:06.535948Z"
    },
    "tags": []
   },
   "outputs": [
    {
     "name": "stdout",
     "output_type": "stream",
     "text": [
      "Found 4790 files belonging to 9 classes.\n",
      "Using 718 files for validation.\n"
     ]
    }
   ],
   "source": [
    "test_ds = tf.keras.utils.image_dataset_from_directory(\n",
    "  './RealWaste',\n",
    "  validation_split=0.15,\n",
    "  subset=\"validation\",\n",
    "  seed=seed,\n",
    "  image_size=(img_height, img_width),\n",
    "  batch_size=batch_size)"
   ]
  },
  {
   "cell_type": "code",
   "execution_count": 4,
   "id": "0f68aed4-c62a-4f05-8532-f7ddcfc43f39",
   "metadata": {
    "execution": {
     "iopub.execute_input": "2023-12-20T02:57:06.796576Z",
     "iopub.status.busy": "2023-12-20T02:57:06.795875Z",
     "iopub.status.idle": "2023-12-20T02:58:13.247327Z",
     "shell.execute_reply": "2023-12-20T02:58:13.246436Z",
     "shell.execute_reply.started": "2023-12-20T02:57:06.796543Z"
    },
    "tags": []
   },
   "outputs": [
    {
     "name": "stdout",
     "output_type": "stream",
     "text": [
      "4072\n",
      "718\n"
     ]
    }
   ],
   "source": [
    "def save_dataset(dataset,subgroup):\n",
    "    i=0\n",
    "    from PIL.Image import fromarray\n",
    "    import os\n",
    "    class_names = dataset.class_names\n",
    "    index = [0 for i in class_names]\n",
    "    try:\n",
    "        os.mkdir(f'RealWaste-{subgroup}')\n",
    "    except:\n",
    "        pass\n",
    "    for c in class_names:\n",
    "        try:\n",
    "            os.mkdir(f'RealWaste-{subgroup}/{c}')\n",
    "        except:\n",
    "            pass\n",
    "    for content, categories in dataset:\n",
    "        for (element,category) in zip(content,categories):\n",
    "            i+=1\n",
    "            index[category]+=1\n",
    "            imgarr = np.array(element).round().astype('uint8')\n",
    "            img = fromarray(imgarr)\n",
    "            img.save(f'RealWaste-{subgroup}/{class_names[category]}/{str(index[category])}.jpeg')\n",
    "    print(i)\n",
    "save_dataset(full_train_ds,'full-train')\n",
    "save_dataset(test_ds,'test')"
   ]
  },
  {
   "cell_type": "code",
   "execution_count": 5,
   "id": "cb37a596-1b79-4217-b78f-3555cf413d9b",
   "metadata": {
    "execution": {
     "iopub.execute_input": "2023-12-20T02:58:13.248623Z",
     "iopub.status.busy": "2023-12-20T02:58:13.248286Z",
     "iopub.status.idle": "2023-12-20T02:59:08.358357Z",
     "shell.execute_reply": "2023-12-20T02:59:08.357718Z",
     "shell.execute_reply.started": "2023-12-20T02:58:13.248599Z"
    },
    "tags": []
   },
   "outputs": [
    {
     "name": "stdout",
     "output_type": "stream",
     "text": [
      "Found 4072 files belonging to 9 classes.\n",
      "Using 3354 files for training.\n",
      "Found 4072 files belonging to 9 classes.\n",
      "Using 718 files for validation.\n",
      "3354\n",
      "718\n"
     ]
    }
   ],
   "source": [
    "train_ds = tf.keras.utils.image_dataset_from_directory(\n",
    "  './RealWaste-full-train',\n",
    "  validation_split=0.15/0.85,\n",
    "  subset=\"training\",\n",
    "  seed=seed,\n",
    "  image_size=(img_height, img_width),\n",
    "  batch_size=batch_size)\n",
    "\n",
    "val_ds = tf.keras.utils.image_dataset_from_directory(\n",
    "  './RealWaste-full-train',\n",
    "  validation_split=0.15/0.85,\n",
    "  subset=\"validation\",\n",
    "  seed=seed,\n",
    "  image_size=(img_height, img_width),\n",
    "  batch_size=batch_size)\n",
    "save_dataset(train_ds,'train')\n",
    "save_dataset(val_ds,'validation')"
   ]
  }
 ],
 "metadata": {
  "kernelspec": {
   "display_name": "saturn (Python 3)",
   "language": "python",
   "name": "python3"
  },
  "language_info": {
   "codemirror_mode": {
    "name": "ipython",
    "version": 3
   },
   "file_extension": ".py",
   "mimetype": "text/x-python",
   "name": "python",
   "nbconvert_exporter": "python",
   "pygments_lexer": "ipython3",
   "version": "3.9.13"
  }
 },
 "nbformat": 4,
 "nbformat_minor": 5
}
